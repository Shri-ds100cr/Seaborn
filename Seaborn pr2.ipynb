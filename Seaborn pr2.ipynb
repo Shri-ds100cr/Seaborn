{
 "cells": [
  {
   "cell_type": "markdown",
   "id": "b0c74395",
   "metadata": {},
   "source": [
    "# How to draw seanborn heatmap"
   ]
  },
  {
   "cell_type": "code",
   "execution_count": 3,
   "id": "952100f8",
   "metadata": {},
   "outputs": [],
   "source": [
    "import numpy as np\n",
    "import pandas as pd\n",
    "import matplotlib.pyplot as plt\n",
    "import seaborn as sns"
   ]
  },
  {
   "cell_type": "code",
   "execution_count": 5,
   "id": "7432c2a6",
   "metadata": {},
   "outputs": [
    {
     "data": {
      "text/plain": [
       "array([[1.        , 1.36363636, 1.72727273],\n",
       "       [2.09090909, 2.45454545, 2.81818182],\n",
       "       [3.18181818, 3.54545455, 3.90909091],\n",
       "       [4.27272727, 4.63636364, 5.        ]])"
      ]
     },
     "execution_count": 5,
     "metadata": {},
     "output_type": "execute_result"
    }
   ],
   "source": [
    "arr_2d=np.linspace(1,5,12).reshape(4,3)\n",
    "arr_2d"
   ]
  },
  {
   "cell_type": "code",
   "execution_count": 7,
   "id": "bc6d3ec0",
   "metadata": {},
   "outputs": [
    {
     "data": {
      "text/plain": [
       "<AxesSubplot:>"
      ]
     },
     "execution_count": 7,
     "metadata": {},
     "output_type": "execute_result"
    },
    {
     "data": {
      "image/png": "[encoded data removed]",
      "text/plain": [
       "<Figure size 432x288 with 2 Axes>"
      ]
     },
     "metadata": {
      "needs_background": "light"
     },
     "output_type": "display_data"
    }
   ],
   "source": [
    "sns.heatmap(arr_2d)"
   ]
  },
  {
   "cell_type": "code",
   "execution_count": 10,
   "id": "76304592",
   "metadata": {},
   "outputs": [],
   "source": [
    "fortune=pd.read_csv(\"Fortune_10.csv\")"
   ]
  },
  {
   "cell_type": "code",
   "execution_count": 11,
   "id": "2785d1d5",
   "metadata": {},
   "outputs": [
    {
     "data": {
      "text/html": [
       "<div>\n",
       "<style scoped>\n",
       "    .dataframe tbody tr th:only-of-type {\n",
       "        vertical-align: middle;\n",
       "    }\n",
       "\n",
       "    .dataframe tbody tr th {\n",
       "        vertical-align: top;\n",
       "    }\n",
       "\n",
       "    .dataframe thead th {\n",
       "        text-align: right;\n",
       "    }\n",
       "</style>\n",
       "<table border=\"1\" class=\"dataframe\">\n",
       "  <thead>\n",
       "    <tr style=\"text-align: right;\">\n",
       "      <th></th>\n",
       "      <th>ID</th>\n",
       "      <th>date</th>\n",
       "      <th>Name</th>\n",
       "      <th>Industry</th>\n",
       "      <th>Inception</th>\n",
       "      <th>Revenue</th>\n",
       "      <th>Expenses</th>\n",
       "      <th>Profit</th>\n",
       "      <th>Growth</th>\n",
       "      <th>Unnamed: 9</th>\n",
       "    </tr>\n",
       "  </thead>\n",
       "  <tbody>\n",
       "    <tr>\n",
       "      <th>0</th>\n",
       "      <td>1</td>\n",
       "      <td>yes</td>\n",
       "      <td>Lamtone</td>\n",
       "      <td>IT Services</td>\n",
       "      <td>2009.0</td>\n",
       "      <td>$11,757,018</td>\n",
       "      <td>6,482,465 Dollars</td>\n",
       "      <td>5274553.0</td>\n",
       "      <td>30%</td>\n",
       "      <td>NaN</td>\n",
       "    </tr>\n",
       "    <tr>\n",
       "      <th>1</th>\n",
       "      <td>2</td>\n",
       "      <td>no</td>\n",
       "      <td>Stripfind</td>\n",
       "      <td>Financial Services</td>\n",
       "      <td>2010.0</td>\n",
       "      <td>$12,329,371</td>\n",
       "      <td>916,455 Dollars</td>\n",
       "      <td>11412916.0</td>\n",
       "      <td>20%</td>\n",
       "      <td>NaN</td>\n",
       "    </tr>\n",
       "    <tr>\n",
       "      <th>2</th>\n",
       "      <td>3</td>\n",
       "      <td>yes</td>\n",
       "      <td>Canecorporation</td>\n",
       "      <td>Health</td>\n",
       "      <td>2012.0</td>\n",
       "      <td>$10,597,009</td>\n",
       "      <td>7,591,189 Dollars</td>\n",
       "      <td>3005820.0</td>\n",
       "      <td>20%</td>\n",
       "      <td>NaN</td>\n",
       "    </tr>\n",
       "    <tr>\n",
       "      <th>3</th>\n",
       "      <td>4</td>\n",
       "      <td>yes</td>\n",
       "      <td>Mattouch</td>\n",
       "      <td>IT Services</td>\n",
       "      <td>2013.0</td>\n",
       "      <td>$14,026,934</td>\n",
       "      <td>7,429,377 Dollars</td>\n",
       "      <td>6597557.0</td>\n",
       "      <td>20%</td>\n",
       "      <td>NaN</td>\n",
       "    </tr>\n",
       "    <tr>\n",
       "      <th>4</th>\n",
       "      <td>5</td>\n",
       "      <td>no</td>\n",
       "      <td>Mattouch</td>\n",
       "      <td>IT Services</td>\n",
       "      <td>NaN</td>\n",
       "      <td>$14,026,934</td>\n",
       "      <td>7,435,363 Dollars</td>\n",
       "      <td>NaN</td>\n",
       "      <td>20%</td>\n",
       "      <td>NaN</td>\n",
       "    </tr>\n",
       "    <tr>\n",
       "      <th>5</th>\n",
       "      <td>6</td>\n",
       "      <td>yes</td>\n",
       "      <td>Mattouch</td>\n",
       "      <td>Health</td>\n",
       "      <td>NaN</td>\n",
       "      <td>$14,026,934</td>\n",
       "      <td>5,470,303 Dollars</td>\n",
       "      <td>NaN</td>\n",
       "      <td>20%</td>\n",
       "      <td>NaN</td>\n",
       "    </tr>\n",
       "    <tr>\n",
       "      <th>6</th>\n",
       "      <td>7</td>\n",
       "      <td>no</td>\n",
       "      <td>Cityace</td>\n",
       "      <td>Health</td>\n",
       "      <td>2010.0</td>\n",
       "      <td>$14,026,934</td>\n",
       "      <td>6,249,498 Dollars</td>\n",
       "      <td>NaN</td>\n",
       "      <td>20%</td>\n",
       "      <td>NaN</td>\n",
       "    </tr>\n",
       "    <tr>\n",
       "      <th>7</th>\n",
       "      <td>8</td>\n",
       "      <td>yes</td>\n",
       "      <td>Kayelectronics</td>\n",
       "      <td>Health</td>\n",
       "      <td>2009.0</td>\n",
       "      <td>$9,451,943</td>\n",
       "      <td>3,878,113 Dollars</td>\n",
       "      <td>NaN</td>\n",
       "      <td>4%</td>\n",
       "      <td>NaN</td>\n",
       "    </tr>\n",
       "    <tr>\n",
       "      <th>8</th>\n",
       "      <td>9</td>\n",
       "      <td>yes</td>\n",
       "      <td>Ganzlax</td>\n",
       "      <td>IT Services</td>\n",
       "      <td>2011.0</td>\n",
       "      <td>$14,001,180</td>\n",
       "      <td>NaN</td>\n",
       "      <td>11901180.0</td>\n",
       "      <td>18%</td>\n",
       "      <td>NaN</td>\n",
       "    </tr>\n",
       "    <tr>\n",
       "      <th>9</th>\n",
       "      <td>10</td>\n",
       "      <td>yes</td>\n",
       "      <td>Trantraxlax</td>\n",
       "      <td>Government Services</td>\n",
       "      <td>2011.0</td>\n",
       "      <td>$11,088,336</td>\n",
       "      <td>5,635,276 Dollars</td>\n",
       "      <td>5453060.0</td>\n",
       "      <td>7%</td>\n",
       "      <td>NaN</td>\n",
       "    </tr>\n",
       "  </tbody>\n",
       "</table>\n",
       "</div>"
      ],
      "text/plain": [
       "   ID date             Name             Industry  Inception       Revenue  \\\n",
       "0   1  yes          Lamtone          IT Services     2009.0  $11,757,018    \n",
       "1   2   no        Stripfind   Financial Services     2010.0  $12,329,371    \n",
       "2   3  yes  Canecorporation               Health     2012.0  $10,597,009    \n",
       "3   4  yes         Mattouch          IT Services     2013.0  $14,026,934    \n",
       "4   5   no         Mattouch          IT Services        NaN  $14,026,934    \n",
       "5   6  yes         Mattouch               Health        NaN  $14,026,934    \n",
       "6   7   no          Cityace               Health     2010.0  $14,026,934    \n",
       "7   8  yes   Kayelectronics               Health     2009.0   $9,451,943    \n",
       "8   9  yes          Ganzlax          IT Services     2011.0  $14,001,180    \n",
       "9  10  yes      Trantraxlax  Government Services     2011.0  $11,088,336    \n",
       "\n",
       "            Expenses      Profit Growth  Unnamed: 9  \n",
       "0  6,482,465 Dollars   5274553.0    30%         NaN  \n",
       "1    916,455 Dollars  11412916.0    20%         NaN  \n",
       "2  7,591,189 Dollars   3005820.0    20%         NaN  \n",
       "3  7,429,377 Dollars   6597557.0    20%         NaN  \n",
       "4  7,435,363 Dollars         NaN    20%         NaN  \n",
       "5  5,470,303 Dollars         NaN    20%         NaN  \n",
       "6  6,249,498 Dollars         NaN    20%         NaN  \n",
       "7  3,878,113 Dollars         NaN     4%         NaN  \n",
       "8                NaN  11901180.0    18%         NaN  \n",
       "9  5,635,276 Dollars   5453060.0     7%         NaN  "
      ]
     },
     "execution_count": 11,
     "metadata": {},
     "output_type": "execute_result"
    }
   ],
   "source": [
    "fortune"
   ]
  },
  {
   "cell_type": "code",
   "execution_count": 16,
   "id": "1aebd997",
   "metadata": {},
   "outputs": [
    {
     "ename": "TypeError",
     "evalue": "drop() got an unexpected keyword argument 'column'",
     "output_type": "error",
     "traceback": [
      "\u001b[1;31m---------------------------------------------------------------------------\u001b[0m",
      "\u001b[1;31mTypeError\u001b[0m                                 Traceback (most recent call last)",
      "\u001b[1;32m~\\AppData\\Local\\Temp/ipykernel_7960/3655196837.py\u001b[0m in \u001b[0;36m<module>\u001b[1;34m\u001b[0m\n\u001b[1;32m----> 1\u001b[1;33m \u001b[0mfortune\u001b[0m\u001b[1;33m.\u001b[0m\u001b[0mdrop\u001b[0m\u001b[1;33m(\u001b[0m\u001b[0mcolumn\u001b[0m\u001b[1;33m=\u001b[0m\u001b[1;33m[\u001b[0m\u001b[1;34m\"Date\"\u001b[0m\u001b[1;33m,\u001b[0m\u001b[1;34m\"Name\"\u001b[0m\u001b[1;33m]\u001b[0m\u001b[1;33m)\u001b[0m\u001b[1;33m\u001b[0m\u001b[1;33m\u001b[0m\u001b[0m\n\u001b[0m",
      "\u001b[1;32mC:\\ProgramData\\Anaconda3\\lib\\site-packages\\pandas\\util\\_decorators.py\u001b[0m in \u001b[0;36mwrapper\u001b[1;34m(*args, **kwargs)\u001b[0m\n\u001b[0;32m    309\u001b[0m                     \u001b[0mstacklevel\u001b[0m\u001b[1;33m=\u001b[0m\u001b[0mstacklevel\u001b[0m\u001b[1;33m,\u001b[0m\u001b[1;33m\u001b[0m\u001b[1;33m\u001b[0m\u001b[0m\n\u001b[0;32m    310\u001b[0m                 )\n\u001b[1;32m--> 311\u001b[1;33m             \u001b[1;32mreturn\u001b[0m \u001b[0mfunc\u001b[0m\u001b[1;33m(\u001b[0m\u001b[1;33m*\u001b[0m\u001b[0margs\u001b[0m\u001b[1;33m,\u001b[0m \u001b[1;33m**\u001b[0m\u001b[0mkwargs\u001b[0m\u001b[1;33m)\u001b[0m\u001b[1;33m\u001b[0m\u001b[1;33m\u001b[0m\u001b[0m\n\u001b[0m\u001b[0;32m    312\u001b[0m \u001b[1;33m\u001b[0m\u001b[0m\n\u001b[0;32m    313\u001b[0m         \u001b[1;32mreturn\u001b[0m \u001b[0mwrapper\u001b[0m\u001b[1;33m\u001b[0m\u001b[1;33m\u001b[0m\u001b[0m\n",
      "\u001b[1;31mTypeError\u001b[0m: drop() got an unexpected keyword argument 'column'"
     ]
    }
   ],
   "source": [
    "fortune.drop(column=[\"Date\",\"Name\"])\n"
   ]
  },
  {
   "cell_type": "code",
   "execution_count": null,
   "id": "27d1a77b",
   "metadata": {},
   "outputs": [],
   "source": []
  }
 ],
 "metadata": {
  "kernelspec": {
   "display_name": "Python 3 (ipykernel)",
   "language": "python",
   "name": "python3"
  },
  "language_info": {
   "codemirror_mode": {
    "name": "ipython",
    "version": 3
   },
   "file_extension": ".py",
   "mimetype": "text/x-python",
   "name": "python",
   "nbconvert_exporter": "python",
   "pygments_lexer": "ipython3",
   "version": "3.9.7"
  }
 },
 "nbformat": 4,
 "nbformat_minor": 5
}
